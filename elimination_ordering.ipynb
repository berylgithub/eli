{
 "cells": [
  {
   "cell_type": "code",
   "execution_count": 4,
   "metadata": {},
   "outputs": [],
   "source": [
    "import numpy as np"
   ]
  },
  {
   "cell_type": "code",
   "execution_count": 90,
   "metadata": {},
   "outputs": [
    {
     "name": "stdout",
     "output_type": "stream",
     "text": [
      "[[0 0 1 0 0 0 0 1 1]\n",
      " [0 0 1 0 0 1 1 1 0]\n",
      " [1 1 0 0 0 0 0 0 0]\n",
      " [0 0 0 0 0 0 0 1 1]\n",
      " [0 0 0 0 0 0 1 1 0]\n",
      " [0 1 0 0 0 0 1 0 0]\n",
      " [0 1 0 0 1 1 0 0 0]\n",
      " [1 1 0 1 1 0 0 0 0]\n",
      " [1 0 0 1 0 0 0 0 0]]\n"
     ]
    }
   ],
   "source": [
    "#test array/graph from https://people.sc.fsu.edu/~jburkardt/m_src/rcm/rcm.html\n",
    "graph = np.array([\n",
    "            [0, 0, 1, 0, 0, 0, 0, 1, 1],\n",
    "            [0, 0, 1, 0, 0, 1, 1, 1, 0],\n",
    "            [1, 1, 0, 0, 0, 0, 0, 0, 0],\n",
    "            [0, 0, 0, 0, 0, 0, 0, 1, 1],\n",
    "            [0, 0, 0, 0, 0, 0, 1, 1, 0],\n",
    "            [0, 1, 0, 0, 0, 0, 1, 0, 0],\n",
    "            [0, 1, 0, 0, 1, 1, 0, 0, 0],\n",
    "            [1, 1, 0, 1, 1, 0, 0, 0, 0],\n",
    "            [1, 0, 0, 1, 0, 0, 0, 0, 0]\n",
    "             ])\n",
    "print(graph)"
   ]
  },
  {
   "cell_type": "code",
   "execution_count": 43,
   "metadata": {},
   "outputs": [
    {
     "name": "stdout",
     "output_type": "stream",
     "text": [
      "[[2 0 1 2 0 1 1 0 2 2]\n",
      " [0 2 2 1 1 2 0 0 2 0]\n",
      " [1 2 2 0 1 2 2 2 1 1]\n",
      " [2 1 0 2 0 0 2 1 2 1]\n",
      " [0 1 1 0 0 0 0 2 1 1]\n",
      " [1 2 2 0 0 0 1 0 2 1]\n",
      " [1 0 2 2 0 1 0 2 1 1]\n",
      " [0 0 2 1 2 0 2 0 1 0]\n",
      " [2 2 1 2 1 2 1 1 0 1]\n",
      " [2 0 1 1 1 1 1 0 1 2]]\n"
     ]
    }
   ],
   "source": [
    "#to generate rand arr\n",
    "N = 10\n",
    "b = np.random.randint(2,size=(N,N))\n",
    "#b_symm = np.array(np.ceil((b + b.T)/2), dtype=int)\n",
    "#np.fill_diagonal(b_symm, 0)\n",
    "#b_symm\n",
    "print(b+b.T)"
   ]
  },
  {
   "cell_type": "code",
   "execution_count": 91,
   "metadata": {},
   "outputs": [],
   "source": [
    "from scipy.sparse import csr_matrix, csc_matrix\n",
    "from scipy.sparse.csgraph import reverse_cuthill_mckee"
   ]
  },
  {
   "cell_type": "code",
   "execution_count": 92,
   "metadata": {},
   "outputs": [
    {
     "name": "stdout",
     "output_type": "stream",
     "text": [
      "  (0, 2)\t1\n",
      "  (0, 7)\t1\n",
      "  (0, 8)\t1\n",
      "  (1, 2)\t1\n",
      "  (1, 5)\t1\n",
      "  (1, 6)\t1\n",
      "  (1, 7)\t1\n",
      "  (2, 0)\t1\n",
      "  (2, 1)\t1\n",
      "  (3, 7)\t1\n",
      "  (3, 8)\t1\n",
      "  (4, 6)\t1\n",
      "  (4, 7)\t1\n",
      "  (5, 1)\t1\n",
      "  (5, 6)\t1\n",
      "  (6, 1)\t1\n",
      "  (6, 4)\t1\n",
      "  (6, 5)\t1\n",
      "  (7, 0)\t1\n",
      "  (7, 1)\t1\n",
      "  (7, 3)\t1\n",
      "  (7, 4)\t1\n",
      "  (8, 0)\t1\n",
      "  (8, 3)\t1\n"
     ]
    },
    {
     "data": {
      "text/plain": [
       "array([4, 3, 6, 5, 7, 8, 1, 0, 2], dtype=int32)"
      ]
     },
     "execution_count": 92,
     "metadata": {},
     "output_type": "execute_result"
    }
   ],
   "source": [
    "c_g = csr_matrix(graph)\n",
    "print(c_g)\n",
    "perm = reverse_cuthill_mckee(c_g, True)\n",
    "perm"
   ]
  },
  {
   "cell_type": "code",
   "execution_count": 93,
   "metadata": {},
   "outputs": [
    {
     "name": "stdout",
     "output_type": "stream",
     "text": [
      "[[0 0 0 0 0 0 1 1 0]\n",
      " [0 0 0 0 0 0 0 1 1]\n",
      " [0 1 0 0 1 1 0 0 0]\n",
      " [0 1 0 0 0 0 1 0 0]\n",
      " [1 1 0 1 1 0 0 0 0]\n",
      " [1 0 0 1 0 0 0 0 0]\n",
      " [0 0 1 0 0 1 1 1 0]\n",
      " [0 0 1 0 0 0 0 1 1]\n",
      " [1 1 0 0 0 0 0 0 0]]\n",
      "  (0, 7)\t1\n",
      "  (0, 6)\t1\n",
      "  (1, 8)\t1\n",
      "  (1, 7)\t1\n",
      "  (2, 5)\t1\n",
      "  (2, 4)\t1\n",
      "  (2, 1)\t1\n",
      "  (3, 6)\t1\n",
      "  (3, 1)\t1\n",
      "  (4, 4)\t1\n",
      "  (4, 3)\t1\n",
      "  (4, 1)\t1\n",
      "  (4, 0)\t1\n",
      "  (5, 3)\t1\n",
      "  (5, 0)\t1\n",
      "  (6, 7)\t1\n",
      "  (6, 6)\t1\n",
      "  (6, 5)\t1\n",
      "  (6, 2)\t1\n",
      "  (7, 8)\t1\n",
      "  (7, 7)\t1\n",
      "  (7, 2)\t1\n",
      "  (8, 1)\t1\n",
      "  (8, 0)\t1\n"
     ]
    }
   ],
   "source": [
    "g = graph[perm]\n",
    "print(g)\n",
    "print(c_g[perm])"
   ]
  },
  {
   "cell_type": "code",
   "execution_count": 94,
   "metadata": {},
   "outputs": [
    {
     "name": "stdout",
     "output_type": "stream",
     "text": [
      "  (0, 1)\t1\n",
      "  (0, 2)\t2\n",
      "  (1, 3)\t1\n",
      "  (2, 0)\t2\n",
      "  (2, 3)\t3\n"
     ]
    }
   ],
   "source": [
    "graph = [\n",
    "[0, 1 , 2, 0],\n",
    "[0, 0, 0, 1],\n",
    "[2, 0, 0, 3],\n",
    "[0, 0, 0, 0]\n",
    "]\n",
    "graph = csr_matrix(graph)\n",
    "print(graph)\n"
   ]
  },
  {
   "cell_type": "code",
   "execution_count": 95,
   "metadata": {},
   "outputs": [
    {
     "name": "stdout",
     "output_type": "stream",
     "text": [
      "[3 2 1 0]\n"
     ]
    },
    {
     "data": {
      "text/plain": [
       "array([[0, 0, 0, 0],\n",
       "       [2, 0, 0, 3],\n",
       "       [0, 0, 0, 1],\n",
       "       [0, 1, 2, 0]], dtype=int32)"
      ]
     },
     "execution_count": 95,
     "metadata": {},
     "output_type": "execute_result"
    }
   ],
   "source": [
    "perm = reverse_cuthill_mckee(graph)\n",
    "print(perm)\n",
    "graph[perm].toarray()"
   ]
  },
  {
   "cell_type": "code",
   "execution_count": null,
   "metadata": {},
   "outputs": [],
   "source": []
  }
 ],
 "metadata": {
  "kernelspec": {
   "display_name": "Python 3",
   "language": "python",
   "name": "python3"
  },
  "language_info": {
   "codemirror_mode": {
    "name": "ipython",
    "version": 3
   },
   "file_extension": ".py",
   "mimetype": "text/x-python",
   "name": "python",
   "nbconvert_exporter": "python",
   "pygments_lexer": "ipython3",
   "version": "3.7.3"
  }
 },
 "nbformat": 4,
 "nbformat_minor": 2
}
