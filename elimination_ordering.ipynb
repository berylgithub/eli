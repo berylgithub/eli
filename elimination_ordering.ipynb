{
 "cells": [
  {
   "cell_type": "code",
   "execution_count": 169,
   "metadata": {},
   "outputs": [],
   "source": [
    "import numpy as np\n",
    "from scipy.special import comb "
   ]
  },
  {
   "cell_type": "code",
   "execution_count": 46,
   "metadata": {},
   "outputs": [
    {
     "name": "stdout",
     "output_type": "stream",
     "text": [
      "[[0 0 1 0 0 0 0 1 1]\n",
      " [0 0 1 0 0 1 1 1 0]\n",
      " [1 1 0 0 0 0 0 0 0]\n",
      " [0 0 0 0 0 0 0 1 1]\n",
      " [0 0 0 0 0 0 1 1 0]\n",
      " [0 1 0 0 0 0 1 0 0]\n",
      " [0 1 0 0 1 1 0 0 0]\n",
      " [1 1 0 1 1 0 0 0 0]\n",
      " [1 0 0 1 0 0 0 0 0]]\n"
     ]
    }
   ],
   "source": [
    "#test array/graph from https://people.sc.fsu.edu/~jburkardt/m_src/rcm/rcm.html\n",
    "graph = np.array([\n",
    "            [0, 0, 1, 0, 0, 0, 0, 1, 1],\n",
    "            [0, 0, 1, 0, 0, 1, 1, 1, 0],\n",
    "            [1, 1, 0, 0, 0, 0, 0, 0, 0],\n",
    "            [0, 0, 0, 0, 0, 0, 0, 1, 1],\n",
    "            [0, 0, 0, 0, 0, 0, 1, 1, 0],\n",
    "            [0, 1, 0, 0, 0, 0, 1, 0, 0],\n",
    "            [0, 1, 0, 0, 1, 1, 0, 0, 0],\n",
    "            [1, 1, 0, 1, 1, 0, 0, 0, 0],\n",
    "            [1, 0, 0, 1, 0, 0, 0, 0, 0]\n",
    "             ])\n",
    "print(graph)"
   ]
  },
  {
   "cell_type": "code",
   "execution_count": 43,
   "metadata": {},
   "outputs": [
    {
     "name": "stdout",
     "output_type": "stream",
     "text": [
      "[[2 0 1 2 0 1 1 0 2 2]\n",
      " [0 2 2 1 1 2 0 0 2 0]\n",
      " [1 2 2 0 1 2 2 2 1 1]\n",
      " [2 1 0 2 0 0 2 1 2 1]\n",
      " [0 1 1 0 0 0 0 2 1 1]\n",
      " [1 2 2 0 0 0 1 0 2 1]\n",
      " [1 0 2 2 0 1 0 2 1 1]\n",
      " [0 0 2 1 2 0 2 0 1 0]\n",
      " [2 2 1 2 1 2 1 1 0 1]\n",
      " [2 0 1 1 1 1 1 0 1 2]]\n"
     ]
    }
   ],
   "source": [
    "#to generate rand arr\n",
    "N = 10\n",
    "b = np.random.randint(2,size=(N,N))\n",
    "#b_symm = np.array(np.ceil((b + b.T)/2), dtype=int)\n",
    "#np.fill_diagonal(b_symm, 0)\n",
    "#b_symm\n",
    "print(b+b.T)"
   ]
  },
  {
   "cell_type": "code",
   "execution_count": 91,
   "metadata": {},
   "outputs": [],
   "source": [
    "from scipy.sparse import csr_matrix, csc_matrix\n",
    "from scipy.sparse.csgraph import reverse_cuthill_mckee"
   ]
  },
  {
   "cell_type": "code",
   "execution_count": 92,
   "metadata": {},
   "outputs": [
    {
     "name": "stdout",
     "output_type": "stream",
     "text": [
      "  (0, 2)\t1\n",
      "  (0, 7)\t1\n",
      "  (0, 8)\t1\n",
      "  (1, 2)\t1\n",
      "  (1, 5)\t1\n",
      "  (1, 6)\t1\n",
      "  (1, 7)\t1\n",
      "  (2, 0)\t1\n",
      "  (2, 1)\t1\n",
      "  (3, 7)\t1\n",
      "  (3, 8)\t1\n",
      "  (4, 6)\t1\n",
      "  (4, 7)\t1\n",
      "  (5, 1)\t1\n",
      "  (5, 6)\t1\n",
      "  (6, 1)\t1\n",
      "  (6, 4)\t1\n",
      "  (6, 5)\t1\n",
      "  (7, 0)\t1\n",
      "  (7, 1)\t1\n",
      "  (7, 3)\t1\n",
      "  (7, 4)\t1\n",
      "  (8, 0)\t1\n",
      "  (8, 3)\t1\n"
     ]
    },
    {
     "data": {
      "text/plain": [
       "array([4, 3, 6, 5, 7, 8, 1, 0, 2], dtype=int32)"
      ]
     },
     "execution_count": 92,
     "metadata": {},
     "output_type": "execute_result"
    }
   ],
   "source": [
    "c_g = csr_matrix(graph)\n",
    "print(c_g)\n",
    "perm = reverse_cuthill_mckee(c_g, True)\n",
    "perm"
   ]
  },
  {
   "cell_type": "code",
   "execution_count": 93,
   "metadata": {
    "scrolled": true
   },
   "outputs": [
    {
     "name": "stdout",
     "output_type": "stream",
     "text": [
      "[[0 0 0 0 0 0 1 1 0]\n",
      " [0 0 0 0 0 0 0 1 1]\n",
      " [0 1 0 0 1 1 0 0 0]\n",
      " [0 1 0 0 0 0 1 0 0]\n",
      " [1 1 0 1 1 0 0 0 0]\n",
      " [1 0 0 1 0 0 0 0 0]\n",
      " [0 0 1 0 0 1 1 1 0]\n",
      " [0 0 1 0 0 0 0 1 1]\n",
      " [1 1 0 0 0 0 0 0 0]]\n",
      "  (0, 7)\t1\n",
      "  (0, 6)\t1\n",
      "  (1, 8)\t1\n",
      "  (1, 7)\t1\n",
      "  (2, 5)\t1\n",
      "  (2, 4)\t1\n",
      "  (2, 1)\t1\n",
      "  (3, 6)\t1\n",
      "  (3, 1)\t1\n",
      "  (4, 4)\t1\n",
      "  (4, 3)\t1\n",
      "  (4, 1)\t1\n",
      "  (4, 0)\t1\n",
      "  (5, 3)\t1\n",
      "  (5, 0)\t1\n",
      "  (6, 7)\t1\n",
      "  (6, 6)\t1\n",
      "  (6, 5)\t1\n",
      "  (6, 2)\t1\n",
      "  (7, 8)\t1\n",
      "  (7, 7)\t1\n",
      "  (7, 2)\t1\n",
      "  (8, 1)\t1\n",
      "  (8, 0)\t1\n"
     ]
    }
   ],
   "source": [
    "g = graph[perm]\n",
    "print(g)\n",
    "print(c_g[perm])"
   ]
  },
  {
   "cell_type": "code",
   "execution_count": 94,
   "metadata": {},
   "outputs": [
    {
     "name": "stdout",
     "output_type": "stream",
     "text": [
      "  (0, 1)\t1\n",
      "  (0, 2)\t2\n",
      "  (1, 3)\t1\n",
      "  (2, 0)\t2\n",
      "  (2, 3)\t3\n"
     ]
    }
   ],
   "source": [
    "graph = [\n",
    "[0, 1 , 2, 0],\n",
    "[0, 0, 0, 1],\n",
    "[2, 0, 0, 3],\n",
    "[0, 0, 0, 0]\n",
    "]\n",
    "graph = csr_matrix(graph)\n",
    "print(graph)\n"
   ]
  },
  {
   "cell_type": "code",
   "execution_count": 95,
   "metadata": {},
   "outputs": [
    {
     "name": "stdout",
     "output_type": "stream",
     "text": [
      "[3 2 1 0]\n"
     ]
    },
    {
     "data": {
      "text/plain": [
       "array([[0, 0, 0, 0],\n",
       "       [2, 0, 0, 3],\n",
       "       [0, 0, 0, 1],\n",
       "       [0, 1, 2, 0]], dtype=int32)"
      ]
     },
     "execution_count": 95,
     "metadata": {},
     "output_type": "execute_result"
    }
   ],
   "source": [
    "perm = reverse_cuthill_mckee(graph)\n",
    "print(perm)\n",
    "graph[perm].toarray()"
   ]
  },
  {
   "cell_type": "code",
   "execution_count": 16,
   "metadata": {},
   "outputs": [
    {
     "name": "stdout",
     "output_type": "stream",
     "text": [
      "[[0 0 1 0 0 0 0 1 1]\n",
      " [0 0 1 0 0 1 1 1 0]\n",
      " [1 1 0 0 0 0 0 0 0]\n",
      " [0 0 0 0 0 0 0 1 1]\n",
      " [0 0 0 0 0 0 1 1 0]\n",
      " [0 1 0 0 0 0 1 0 0]\n",
      " [0 1 0 0 1 1 0 0 0]\n",
      " [1 1 0 1 1 0 0 0 0]\n",
      " [1 0 0 1 0 0 0 0 0]]\n"
     ]
    },
    {
     "data": {
      "text/plain": [
       "array([-1, -1, -1, -1, -1, -1, -1, -1, -1])"
      ]
     },
     "execution_count": 16,
     "metadata": {},
     "output_type": "execute_result"
    }
   ],
   "source": [
    "print(graph)\n",
    "graph.shape[0]\n",
    "np.array([-1]*graph.shape[0])"
   ]
  },
  {
   "cell_type": "code",
   "execution_count": 225,
   "metadata": {},
   "outputs": [
    {
     "name": "stdout",
     "output_type": "stream",
     "text": [
      "[[0 0 1 0 0 0 0 1 1]\n",
      " [0 0 1 0 0 1 1 1 0]\n",
      " [1 1 0 0 0 0 0 0 0]\n",
      " [0 0 0 0 0 0 0 1 1]\n",
      " [0 0 0 0 0 0 1 1 0]\n",
      " [0 1 0 0 0 0 1 0 0]\n",
      " [0 1 0 0 1 1 0 0 0]\n",
      " [1 1 0 1 1 0 0 0 0]\n",
      " [1 0 0 1 0 0 0 0 0]]\n",
      "[[0. 1. 0. 0. 0. 1. 0. 0. 0. 0. 0. 0. 0. 0. 0. 0. 0. 0. 0. 0. 0. 1. 0. 0.]\n",
      " [1. 0. 0. 1. 0. 0. 0. 0. 0. 0. 0. 0. 0. 0. 0. 1. 0. 0. 0. 0. 0. 0. 0. 0.]\n",
      " [0. 0. 0. 1. 1. 0. 0. 0. 0. 0. 0. 0. 0. 0. 0. 0. 0. 0. 0. 0. 0. 0. 0. 1.]\n",
      " [0. 1. 1. 0. 0. 0. 0. 0. 0. 1. 0. 0. 0. 0. 0. 0. 0. 0. 0. 0. 0. 0. 0. 0.]\n",
      " [0. 0. 1. 0. 0. 1. 0. 0. 0. 0. 0. 0. 0. 0. 0. 0. 0. 1. 0. 0. 0. 0. 0. 0.]\n",
      " [1. 0. 0. 0. 1. 0. 0. 0. 0. 0. 0. 1. 0. 0. 0. 0. 0. 0. 0. 0. 0. 0. 0. 0.]\n",
      " [0. 0. 0. 0. 0. 0. 0. 1. 0. 0. 0. 1. 0. 0. 0. 0. 0. 0. 0. 1. 0. 0. 0. 0.]\n",
      " [0. 0. 0. 0. 0. 0. 1. 0. 0. 1. 0. 0. 0. 1. 0. 0. 0. 0. 0. 0. 0. 0. 0. 0.]\n",
      " [0. 0. 0. 0. 0. 0. 0. 0. 0. 1. 1. 0. 0. 0. 0. 0. 0. 0. 0. 0. 0. 0. 1. 0.]\n",
      " [0. 0. 0. 1. 0. 0. 0. 1. 1. 0. 0. 0. 0. 0. 0. 0. 0. 0. 0. 0. 0. 0. 0. 0.]\n",
      " [0. 0. 0. 0. 0. 0. 0. 0. 1. 0. 0. 1. 0. 0. 0. 0. 1. 0. 0. 0. 0. 0. 0. 0.]\n",
      " [0. 0. 0. 0. 0. 1. 1. 0. 0. 0. 1. 0. 0. 0. 0. 0. 0. 0. 0. 0. 0. 0. 0. 0.]\n",
      " [0. 0. 0. 0. 0. 0. 0. 0. 0. 0. 0. 0. 0. 1. 0. 0. 0. 1. 1. 0. 0. 0. 0. 0.]\n",
      " [0. 0. 0. 0. 0. 0. 0. 1. 0. 0. 0. 0. 1. 0. 0. 1. 0. 0. 0. 0. 0. 0. 0. 0.]\n",
      " [0. 0. 0. 0. 0. 0. 0. 0. 0. 0. 0. 0. 0. 0. 0. 1. 1. 0. 0. 0. 1. 0. 0. 0.]\n",
      " [0. 1. 0. 0. 0. 0. 0. 0. 0. 0. 0. 0. 0. 1. 1. 0. 0. 0. 0. 0. 0. 0. 0. 0.]\n",
      " [0. 0. 0. 0. 0. 0. 0. 0. 0. 0. 1. 0. 0. 0. 1. 0. 0. 1. 0. 0. 0. 0. 0. 0.]\n",
      " [0. 0. 0. 0. 1. 0. 0. 0. 0. 0. 0. 0. 1. 0. 0. 0. 1. 0. 0. 0. 0. 0. 0. 0.]\n",
      " [0. 0. 0. 0. 0. 0. 0. 0. 0. 0. 0. 0. 1. 0. 0. 0. 0. 0. 0. 1. 0. 0. 0. 1.]\n",
      " [0. 0. 0. 0. 0. 0. 1. 0. 0. 0. 0. 0. 0. 0. 0. 0. 0. 0. 1. 0. 0. 1. 0. 0.]\n",
      " [0. 0. 0. 0. 0. 0. 0. 0. 0. 0. 0. 0. 0. 0. 1. 0. 0. 0. 0. 0. 0. 1. 1. 0.]\n",
      " [1. 0. 0. 0. 0. 0. 0. 0. 0. 0. 0. 0. 0. 0. 0. 0. 0. 0. 0. 1. 1. 0. 0. 0.]\n",
      " [0. 0. 0. 0. 0. 0. 0. 0. 1. 0. 0. 0. 0. 0. 0. 0. 0. 0. 0. 0. 1. 0. 0. 1.]\n",
      " [0. 0. 1. 0. 0. 0. 0. 0. 0. 0. 0. 0. 0. 0. 0. 0. 0. 0. 1. 0. 0. 0. 1. 0.]]\n"
     ]
    }
   ],
   "source": [
    "'''graphs collection for testing'''\n",
    "#test array/graph from https://people.sc.fsu.edu/~jburkardt/m_src/rcm/rcm.html\n",
    "graph = np.array([\n",
    "            [0, 0, 1, 0, 0, 0, 0, 1, 1],\n",
    "            [0, 0, 1, 0, 0, 1, 1, 1, 0],\n",
    "            [1, 1, 0, 0, 0, 0, 0, 0, 0],\n",
    "            [0, 0, 0, 0, 0, 0, 0, 1, 1],\n",
    "            [0, 0, 0, 0, 0, 0, 1, 1, 0],\n",
    "            [0, 1, 0, 0, 0, 0, 1, 0, 0],\n",
    "            [0, 1, 0, 0, 1, 1, 0, 0, 0],\n",
    "            [1, 1, 0, 1, 1, 0, 0, 0, 0],\n",
    "            [1, 0, 0, 1, 0, 0, 0, 0, 0]\n",
    "             ])\n",
    "print(graph)\n",
    "\n",
    "#nauru graph\n",
    "graph_1 = np.zeros((24,24))\n",
    "graph_1[0][1] = graph_1[0][5] = graph_1[0][21] = \\\n",
    "graph_1[1][3] = graph_1[1][15] = \\\n",
    "graph_1[2][3] = graph_1[2][4] = graph_1[2][23] = \\\n",
    "graph_1[3][9] = graph_1[4][5] = graph_1[4][17] = \\\n",
    "graph_1[5][11] = graph_1[6][7] = graph_1[6][11] = graph_1[6][19] = \\\n",
    "graph_1[7][9] = graph_1[7][13] = \\\n",
    "graph_1[8][9] = graph_1[8][10] = graph_1[8][22] = \\\n",
    "graph_1[10][11] = graph_1[10][16] = \\\n",
    "graph_1[12][13] = graph_1[12][17] = graph_1[12][18] = \\\n",
    "graph_1[13][15] = graph_1[14][15] = graph_1[14][16] = graph_1[14][20] = \\\n",
    "graph_1[16][17] = graph_1[18][19] = graph_1[18][23] = \\\n",
    "graph_1[19][21] = graph_1[20][21] = graph_1[20][22] = \\\n",
    "graph_1[22][23] = 1\n",
    "graph_1 += graph_1.T\n",
    "print(graph_1)"
   ]
  },
  {
   "cell_type": "code",
   "execution_count": 226,
   "metadata": {},
   "outputs": [
    {
     "name": "stdout",
     "output_type": "stream",
     "text": [
      "0 9 2.6666666666666665 3 [3 4 2 2 2 2 3 4 2] [] [0 0 0 0 0 0 0 0 0]\n",
      "1 9 2.6666666666666665 4 [3 4 2 2 2 2 3 4 2] [] [0 0 0 0 0 0 0 0 0]\n",
      "2 9 2.6666666666666665 2 [3 4 2 2 2 2 3 4 2] [] [0 0 0 0 0 0 0 0 0]\n",
      "3 8 2.5 2 [3 4 0 2 2 2 3 4] [2] [1 1 0 0 0 0 0 0 0]\n",
      "4 6 1.8333333333333333 2 [3 4 0 0 2 2] [3, 2] [1 1 0 0 0 0 0 1 1]\n",
      "5 3 2.3333333333333335 2 [3 4 0] [4, 3, 2] [1 1 0 0 0 0 1 1 1]\n",
      "6 2 3.0 2 [3 3] [4, 3, 2, 5] [1 1 0 0 0 0 1 1 1]\n",
      "7 2 2.5 3 [3 2] [6, 4, 3, 2, 5] [1 1 0 0 0 0 0 1 1]\n",
      "8 2 1.5 1 [2 1] [6, 4, 3, 2, 5, 7] [1 1 0 0 0 0 0 0 1]\n"
     ]
    }
   ],
   "source": [
    "'''start of eli'''\n",
    "'''preliminaries:\n",
    "- node == vertex (\"vertices\" for plural)\n",
    "- nodes' index start at 0\n",
    "- all graphs and trees are represented in matrix farm\n",
    "- valency is the sum of the edges' weights of a node, i.e. the sum of the row in a corresponding index, in numpy:\n",
    "    np.sum(graph[node_idx])\n",
    "'''\n",
    "'''independent functions:'''\n",
    "#clique checker:\n",
    "#clique checker\n",
    "def clique_check(graph, vertices_idx):\n",
    "    #get subgraph, by slicing indexes:\n",
    "    subgraph = graph[vertices_idx][:,vertices_idx]\n",
    "    n = subgraph.shape[0]\n",
    "    #check for clique from subgraph:\n",
    "    upper_tri = subgraph[np.triu_indices(n, 1)]\n",
    "    return np.sum(upper_tri) == comb(n, 2)\n",
    "\n",
    "'''end'''\n",
    "\n",
    "n = graph.shape[0] #number of nodes\n",
    "e = [] #placeholder node vector for elimination ordering\n",
    "w = np.array([1]*n) #weight vector for merge forest\n",
    "merge_forest = np.zeros((n,n)) #merge forest for assessment criteria\n",
    "modified = np.array([0]*n) #modified = 1, otherwise 0\n",
    "fill_count = 0\n",
    "\n",
    "#normalize stage\n",
    "#for now, cyclic ordering assumption: start from the 1st index to last idx, hence for-loop\n",
    "for i in range(n):\n",
    "    #recalculate all of the values:\n",
    "    #recalculate n by excluding zero vectored rows (disconnected vertices):\n",
    "    counter = 0\n",
    "    for j in range(n):\n",
    "        if np.sum(graph[j]) > 0:\n",
    "            counter += 1\n",
    "    n = counter\n",
    "    valencies = np.array([np.sum(graph[j]) for j in range(n)]) #needs to recalculate the valency for each update due to the graph-change\n",
    "    mean_valency = np.sum(valencies)/n #get mean valency\n",
    "    max_valency = np.max(valencies) #get max valency\n",
    "    valency = np.sum(graph[i]) #get vertex's valency\n",
    "    m = np.min([mean_valency, n**(1/4) + 3])\n",
    "    neighboors = np.where(graph[i] == 1)[0] #get the neighboors of i\n",
    "    print(i,n,m,valency,valencies,e,modified)\n",
    "\n",
    "    #check all of the conditions based on the valency\n",
    "    if valency == n-1:\n",
    "        e.append(i) #add to the end\n",
    "        graph[i] = graph[:,i] = 0  #remove from graph by deleting edges\n",
    "        #graph = np.delete(graph, i, 0) #delete from graph -- this should be the proper deletion method, though not sure if it's faster\n",
    "        #graph = np.delete(graph, i, 1)\n",
    "        modified[neighboors] = 1 #set neighboors as modified\n",
    "    elif (valency > n/2) and (valency == max_valency):\n",
    "        e.append(i)\n",
    "        graph[i] = graph[:,i] = 0\n",
    "        #graph = np.delete(graph, i, 0)\n",
    "        #graph = np.delete(graph, i, 1)\n",
    "        modified[neighboors] = 1 #set neighboors as modified\n",
    "    elif valency <= 1:\n",
    "        e.insert(0, i) #place vertex first\n",
    "        graph[i] = graph[:,i] = 0\n",
    "        #graph = np.delete(graph, i, 0)\n",
    "        #graph = np.delete(graph, i, 1)\n",
    "        modified[neighboors] = 1 #set neighboors as modified\n",
    "    elif valency == 2:\n",
    "        e.insert(0, i)\n",
    "        graph[neighboors[0]][neighboors[1]] = graph[neighboors[1]][neighboors[0]] = 1 #make edge between them -- fill the value of the cell with 1\n",
    "        graph[i] = graph[:,i] = 0\n",
    "        #graph = np.delete(graph, i, 0)\n",
    "        #graph = np.delete(graph, i, 1)\n",
    "        modified[neighboors] = 1 #set neighboors as modified\n",
    "    elif (valency <= m) and (clique_check(graph, neigboors)):\n",
    "        e.insert(0, i)\n",
    "        graph[i] = graph[:,i] = 0\n",
    "        #graph = np.delete(graph, i, 0)\n",
    "        #graph = np.delete(graph, i, 1)\n",
    "        modified[neighboors] = 1 #set neighboors as modified\n",
    "    #elif valency <= m and subset of j\n",
    "    modified[i] = 0 #set vertex as unmodified\n",
    "    \n"
   ]
  },
  {
   "cell_type": "code",
   "execution_count": 196,
   "metadata": {},
   "outputs": [
    {
     "name": "stdout",
     "output_type": "stream",
     "text": [
      "[[0 1 1]\n",
      " [1 0 1]\n",
      " [1 1 0]]\n",
      "[[1 1 0]\n",
      " [0 1 1]\n",
      " [1 0 1]\n",
      " [1 1 0]]\n"
     ]
    }
   ],
   "source": [
    "testgraph = np.array([[0,1,1,1],\n",
    "                     [1,0,1,1],\n",
    "                     [1,1,0,1],\n",
    "                     [1,1,1,0]\n",
    "                     ])\n",
    "n = testgraph.shape[0]\n",
    "upper_tri = testgraph[np.triu_indices(n, 1)]\n",
    "np.sum(upper_tri) == comb(n, 2)\n",
    "\n",
    "testgraph = np.array([[0,1,1,0],\n",
    "                     [1,0,1,1],\n",
    "                     [1,1,0,1],\n",
    "                     [0,1,1,0]])\n",
    "slice_idx = [1,2,3]\n",
    "a = testgraph[slice_idx][:,slice_idx] #this is the correct one\n",
    "b = testgraph[:,slice_idx]\n",
    "print(a)\n",
    "print(b)\n"
   ]
  },
  {
   "cell_type": "code",
   "execution_count": 197,
   "metadata": {},
   "outputs": [
    {
     "data": {
      "text/plain": [
       "True"
      ]
     },
     "execution_count": 197,
     "metadata": {},
     "output_type": "execute_result"
    }
   ],
   "source": [
    "\n",
    "\n",
    "clique_check(testgraph, slice_idx)\n"
   ]
  },
  {
   "cell_type": "code",
   "execution_count": null,
   "metadata": {},
   "outputs": [],
   "source": []
  }
 ],
 "metadata": {
  "kernelspec": {
   "display_name": "Python 3",
   "language": "python",
   "name": "python3"
  },
  "language_info": {
   "codemirror_mode": {
    "name": "ipython",
    "version": 3
   },
   "file_extension": ".py",
   "mimetype": "text/x-python",
   "name": "python",
   "nbconvert_exporter": "python",
   "pygments_lexer": "ipython3",
   "version": "3.7.3"
  }
 },
 "nbformat": 4,
 "nbformat_minor": 2
}
